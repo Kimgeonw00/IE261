{
  "cells": [
    {
      "cell_type": "markdown",
      "id": "0b312769",
      "metadata": {
        "id": "0b312769"
      },
      "source": [
        "# Assignment #1                                    20200045 Kimgeonwoo\n",
        "- Fill in the blank cells below.\n",
        "- Submit this notebook file via KLMS\n",
        "- Due date : 2022.09.25 09:00am\n",
        "    * after due date, submission is still allowed after due date.\n",
        "        * with delay penalty of 20% / day\n",
        "        * actual score = original score before penalty * (100% - delay penalty)\n",
        "        * submission will be closed after 4 days of due date (2022.09.29 9am)"
      ]
    },
    {
      "cell_type": "markdown",
      "id": "4b625b19",
      "metadata": {
        "id": "4b625b19"
      },
      "source": [
        "## Questions on stock return\n",
        "Please approach this assignments with the following question in mind.  \n",
        "- __Q1__. How can we measure the return on investment of stock?    \n",
        "    * return<br>\n",
        "<br>\n",
        "- __Q2__. Which business day of the week is best for buying stocks?  Or are they indifferent?    \n",
        "    * business day of the week : Monday, Tuesday, ... , Friday\n",
        "    * no stock price data on weekends (Saturday, Sunday)<br>\n",
        "<br>\n",
        "- __Q3__. Are stock returns independent or correlated?\n",
        "    * Correlation coefficient<br>\n",
        "<br>\n",
        "- __Q4__. If you are a risk taker, which stock would you buy?\n",
        "    * risk taker : a person who prefers high risk high return stock\n",
        "    * cf. risk averse\n",
        "    * cf. risk neutral<br>\n",
        "\n",
        "This assignment will guide you to answer these questions."
      ]
    },
    {
      "cell_type": "code",
      "source": [
        "%pip install finance-datareader\n",
        "%pip install bs4"
      ],
      "metadata": {
        "colab": {
          "base_uri": "https://localhost:8080/"
        },
        "id": "JCRUw3JBUUYf",
        "outputId": "c64a3236-1046-4b5c-b27c-e8eb106a1824"
      },
      "id": "JCRUw3JBUUYf",
      "execution_count": 65,
      "outputs": [
        {
          "output_type": "stream",
          "name": "stdout",
          "text": [
            "Looking in indexes: https://pypi.org/simple, https://us-python.pkg.dev/colab-wheels/public/simple/\n",
            "Requirement already satisfied: finance-datareader in /usr/local/lib/python3.7/dist-packages (0.9.34)\n",
            "Requirement already satisfied: requests>=2.3.0 in /usr/local/lib/python3.7/dist-packages (from finance-datareader) (2.23.0)\n",
            "Requirement already satisfied: pandas>=0.19.2 in /usr/local/lib/python3.7/dist-packages (from finance-datareader) (1.3.5)\n",
            "Requirement already satisfied: lxml in /usr/local/lib/python3.7/dist-packages (from finance-datareader) (4.9.1)\n",
            "Requirement already satisfied: tqdm in /usr/local/lib/python3.7/dist-packages (from finance-datareader) (4.64.1)\n",
            "Requirement already satisfied: requests-file in /usr/local/lib/python3.7/dist-packages (from finance-datareader) (1.5.1)\n",
            "Requirement already satisfied: python-dateutil>=2.7.3 in /usr/local/lib/python3.7/dist-packages (from pandas>=0.19.2->finance-datareader) (2.8.2)\n",
            "Requirement already satisfied: numpy>=1.17.3 in /usr/local/lib/python3.7/dist-packages (from pandas>=0.19.2->finance-datareader) (1.21.6)\n",
            "Requirement already satisfied: pytz>=2017.3 in /usr/local/lib/python3.7/dist-packages (from pandas>=0.19.2->finance-datareader) (2022.2.1)\n",
            "Requirement already satisfied: six>=1.5 in /usr/local/lib/python3.7/dist-packages (from python-dateutil>=2.7.3->pandas>=0.19.2->finance-datareader) (1.15.0)\n",
            "Requirement already satisfied: urllib3!=1.25.0,!=1.25.1,<1.26,>=1.21.1 in /usr/local/lib/python3.7/dist-packages (from requests>=2.3.0->finance-datareader) (1.24.3)\n",
            "Requirement already satisfied: chardet<4,>=3.0.2 in /usr/local/lib/python3.7/dist-packages (from requests>=2.3.0->finance-datareader) (3.0.4)\n",
            "Requirement already satisfied: certifi>=2017.4.17 in /usr/local/lib/python3.7/dist-packages (from requests>=2.3.0->finance-datareader) (2022.6.15)\n",
            "Requirement already satisfied: idna<3,>=2.5 in /usr/local/lib/python3.7/dist-packages (from requests>=2.3.0->finance-datareader) (2.10)\n",
            "Looking in indexes: https://pypi.org/simple, https://us-python.pkg.dev/colab-wheels/public/simple/\n",
            "Requirement already satisfied: bs4 in /usr/local/lib/python3.7/dist-packages (0.0.1)\n",
            "Requirement already satisfied: beautifulsoup4 in /usr/local/lib/python3.7/dist-packages (from bs4) (4.6.3)\n"
          ]
        }
      ]
    },
    {
      "cell_type": "code",
      "execution_count": 66,
      "id": "8f7fdf1d",
      "metadata": {
        "id": "8f7fdf1d"
      },
      "outputs": [],
      "source": [
        "import numpy as np\n",
        "import pandas as pd\n",
        "import FinanceDataReader as fdr\n",
        "%matplotlib inline\n",
        "import matplotlib.pyplot as plt\n",
        "import seaborn as sns; sns.set()"
      ]
    },
    {
      "cell_type": "markdown",
      "id": "7a2dea2f",
      "metadata": {
        "id": "7a2dea2f"
      },
      "source": [
        "### Task 0. Select stocks and download price data\n",
        "\n",
        "#### Task 0-1. Download stock price data\n",
        "- $S = \\{s_1, s_2, ..., s_5\\}$ : set of stocks\n",
        "    * Select 5 stocks that you would like to investigate\n",
        "- Download price data of $S$ from internet using FinanceDataReader\n",
        "    * start data : ``2016-09-01``\n",
        "    * end data : ``2022-08-31``\n",
        "- Make a DataFrame object ``df`` having closing price of all stocks in $S$\n",
        "- Display the first 5 rows of ``df``\n",
        "    * hint : df.head()  \n",
        "![image.png](attachment:cb552c75-d8b2-4e54-bbb0-218b51b955a6.png)"
      ]
    },
    {
      "cell_type": "code",
      "execution_count": 67,
      "id": "d106d0f3",
      "metadata": {
        "colab": {
          "base_uri": "https://localhost:8080/",
          "height": 237
        },
        "id": "d106d0f3",
        "outputId": "d443e13f-c02c-412b-cb7e-b247639cbe99"
      },
      "outputs": [
        {
          "output_type": "execute_result",
          "data": {
            "text/plain": [
              "            samsung      cj  koair    sm  showbox\n",
              "Date                                             \n",
              "2016-09-01    31740  177278  21062  1920     6650\n",
              "2016-09-02    31940  178221  21337  2000     6730\n",
              "2016-09-05    32120  178692  20909  1940     6700\n",
              "2016-09-06    32860  178692  20636  1895     6720\n",
              "2016-09-07    32420  175863  20574  1840     6560"
            ],
            "text/html": [
              "\n",
              "  <div id=\"df-533447cf-007d-4612-b046-08ddaeabb4b6\">\n",
              "    <div class=\"colab-df-container\">\n",
              "      <div>\n",
              "<style scoped>\n",
              "    .dataframe tbody tr th:only-of-type {\n",
              "        vertical-align: middle;\n",
              "    }\n",
              "\n",
              "    .dataframe tbody tr th {\n",
              "        vertical-align: top;\n",
              "    }\n",
              "\n",
              "    .dataframe thead th {\n",
              "        text-align: right;\n",
              "    }\n",
              "</style>\n",
              "<table border=\"1\" class=\"dataframe\">\n",
              "  <thead>\n",
              "    <tr style=\"text-align: right;\">\n",
              "      <th></th>\n",
              "      <th>samsung</th>\n",
              "      <th>cj</th>\n",
              "      <th>koair</th>\n",
              "      <th>sm</th>\n",
              "      <th>showbox</th>\n",
              "    </tr>\n",
              "    <tr>\n",
              "      <th>Date</th>\n",
              "      <th></th>\n",
              "      <th></th>\n",
              "      <th></th>\n",
              "      <th></th>\n",
              "      <th></th>\n",
              "    </tr>\n",
              "  </thead>\n",
              "  <tbody>\n",
              "    <tr>\n",
              "      <th>2016-09-01</th>\n",
              "      <td>31740</td>\n",
              "      <td>177278</td>\n",
              "      <td>21062</td>\n",
              "      <td>1920</td>\n",
              "      <td>6650</td>\n",
              "    </tr>\n",
              "    <tr>\n",
              "      <th>2016-09-02</th>\n",
              "      <td>31940</td>\n",
              "      <td>178221</td>\n",
              "      <td>21337</td>\n",
              "      <td>2000</td>\n",
              "      <td>6730</td>\n",
              "    </tr>\n",
              "    <tr>\n",
              "      <th>2016-09-05</th>\n",
              "      <td>32120</td>\n",
              "      <td>178692</td>\n",
              "      <td>20909</td>\n",
              "      <td>1940</td>\n",
              "      <td>6700</td>\n",
              "    </tr>\n",
              "    <tr>\n",
              "      <th>2016-09-06</th>\n",
              "      <td>32860</td>\n",
              "      <td>178692</td>\n",
              "      <td>20636</td>\n",
              "      <td>1895</td>\n",
              "      <td>6720</td>\n",
              "    </tr>\n",
              "    <tr>\n",
              "      <th>2016-09-07</th>\n",
              "      <td>32420</td>\n",
              "      <td>175863</td>\n",
              "      <td>20574</td>\n",
              "      <td>1840</td>\n",
              "      <td>6560</td>\n",
              "    </tr>\n",
              "  </tbody>\n",
              "</table>\n",
              "</div>\n",
              "      <button class=\"colab-df-convert\" onclick=\"convertToInteractive('df-533447cf-007d-4612-b046-08ddaeabb4b6')\"\n",
              "              title=\"Convert this dataframe to an interactive table.\"\n",
              "              style=\"display:none;\">\n",
              "        \n",
              "  <svg xmlns=\"http://www.w3.org/2000/svg\" height=\"24px\"viewBox=\"0 0 24 24\"\n",
              "       width=\"24px\">\n",
              "    <path d=\"M0 0h24v24H0V0z\" fill=\"none\"/>\n",
              "    <path d=\"M18.56 5.44l.94 2.06.94-2.06 2.06-.94-2.06-.94-.94-2.06-.94 2.06-2.06.94zm-11 1L8.5 8.5l.94-2.06 2.06-.94-2.06-.94L8.5 2.5l-.94 2.06-2.06.94zm10 10l.94 2.06.94-2.06 2.06-.94-2.06-.94-.94-2.06-.94 2.06-2.06.94z\"/><path d=\"M17.41 7.96l-1.37-1.37c-.4-.4-.92-.59-1.43-.59-.52 0-1.04.2-1.43.59L10.3 9.45l-7.72 7.72c-.78.78-.78 2.05 0 2.83L4 21.41c.39.39.9.59 1.41.59.51 0 1.02-.2 1.41-.59l7.78-7.78 2.81-2.81c.8-.78.8-2.07 0-2.86zM5.41 20L4 18.59l7.72-7.72 1.47 1.35L5.41 20z\"/>\n",
              "  </svg>\n",
              "      </button>\n",
              "      \n",
              "  <style>\n",
              "    .colab-df-container {\n",
              "      display:flex;\n",
              "      flex-wrap:wrap;\n",
              "      gap: 12px;\n",
              "    }\n",
              "\n",
              "    .colab-df-convert {\n",
              "      background-color: #E8F0FE;\n",
              "      border: none;\n",
              "      border-radius: 50%;\n",
              "      cursor: pointer;\n",
              "      display: none;\n",
              "      fill: #1967D2;\n",
              "      height: 32px;\n",
              "      padding: 0 0 0 0;\n",
              "      width: 32px;\n",
              "    }\n",
              "\n",
              "    .colab-df-convert:hover {\n",
              "      background-color: #E2EBFA;\n",
              "      box-shadow: 0px 1px 2px rgba(60, 64, 67, 0.3), 0px 1px 3px 1px rgba(60, 64, 67, 0.15);\n",
              "      fill: #174EA6;\n",
              "    }\n",
              "\n",
              "    [theme=dark] .colab-df-convert {\n",
              "      background-color: #3B4455;\n",
              "      fill: #D2E3FC;\n",
              "    }\n",
              "\n",
              "    [theme=dark] .colab-df-convert:hover {\n",
              "      background-color: #434B5C;\n",
              "      box-shadow: 0px 1px 3px 1px rgba(0, 0, 0, 0.15);\n",
              "      filter: drop-shadow(0px 1px 2px rgba(0, 0, 0, 0.3));\n",
              "      fill: #FFFFFF;\n",
              "    }\n",
              "  </style>\n",
              "\n",
              "      <script>\n",
              "        const buttonEl =\n",
              "          document.querySelector('#df-533447cf-007d-4612-b046-08ddaeabb4b6 button.colab-df-convert');\n",
              "        buttonEl.style.display =\n",
              "          google.colab.kernel.accessAllowed ? 'block' : 'none';\n",
              "\n",
              "        async function convertToInteractive(key) {\n",
              "          const element = document.querySelector('#df-533447cf-007d-4612-b046-08ddaeabb4b6');\n",
              "          const dataTable =\n",
              "            await google.colab.kernel.invokeFunction('convertToInteractive',\n",
              "                                                     [key], {});\n",
              "          if (!dataTable) return;\n",
              "\n",
              "          const docLinkHtml = 'Like what you see? Visit the ' +\n",
              "            '<a target=\"_blank\" href=https://colab.research.google.com/notebooks/data_table.ipynb>data table notebook</a>'\n",
              "            + ' to learn more about interactive tables.';\n",
              "          element.innerHTML = '';\n",
              "          dataTable['output_type'] = 'display_data';\n",
              "          await google.colab.output.renderOutput(dataTable, element);\n",
              "          const docLink = document.createElement('div');\n",
              "          docLink.innerHTML = docLinkHtml;\n",
              "          element.appendChild(docLink);\n",
              "        }\n",
              "      </script>\n",
              "    </div>\n",
              "  </div>\n",
              "  "
            ]
          },
          "metadata": {},
          "execution_count": 67
        }
      ],
      "source": [
        "# fill in this cell for Task 0-1\n",
        "# set of stocks = {samsung, cj, korean air, sm, showbox}\n",
        "df1 = fdr.DataReader('005930', start='2016-09-01', end='2022-08-31') #samsung\n",
        "samsung = df1['Close']\n",
        "df2 = fdr.DataReader('001040', start='2016-09-01', end='2022-08-31') #cj\n",
        "cj = df2['Close']\n",
        "df3 = fdr.DataReader('003490', start='2016-09-01', end='2022-08-31') #korean air\n",
        "koair = df3['Close']\n",
        "df4 = fdr.DataReader('063440', start='2016-09-01', end='2022-08-31') #sm\n",
        "sm = df4['Close']\n",
        "df5 = fdr.DataReader('086980', start='2016-09-01', end='2022-08-31') #showbox\n",
        "showbox = df5['Close']\n",
        "\n",
        "df = pd.DataFrame({'samsung':samsung, 'cj':cj, 'koair':koair, 'sm':sm, 'showbox':showbox})\n",
        "df.head()"
      ]
    },
    {
      "cell_type": "markdown",
      "id": "238a9cca",
      "metadata": {
        "id": "238a9cca"
      },
      "source": [
        "#### Task 0-2. Write to csv file and read back from it\n",
        "- Save ``df`` to a csv file \"stock_data.csv\"\n",
        "- Read back ``df`` from the saved csv file \"stock_data.csv\"\n",
        "    * by reading the stored csv file, you can continue the following tasks even if you have no internet connection\n",
        "    * use pd.read_csv\n",
        "        * index_col = 'Date'\n",
        "        * parse_dates = True : for recognizing date\n",
        "- Display the first 5 rows of ``df``"
      ]
    },
    {
      "cell_type": "code",
      "execution_count": 68,
      "id": "ddd6b229",
      "metadata": {
        "colab": {
          "base_uri": "https://localhost:8080/",
          "height": 237
        },
        "id": "ddd6b229",
        "outputId": "628e7350-b4ee-43c5-d94c-bd24c6fada73"
      },
      "outputs": [
        {
          "output_type": "execute_result",
          "data": {
            "text/plain": [
              "            samsung      cj  koair    sm  showbox\n",
              "Date                                             \n",
              "2016-09-01    31740  177278  21062  1920     6650\n",
              "2016-09-02    31940  178221  21337  2000     6730\n",
              "2016-09-05    32120  178692  20909  1940     6700\n",
              "2016-09-06    32860  178692  20636  1895     6720\n",
              "2016-09-07    32420  175863  20574  1840     6560"
            ],
            "text/html": [
              "\n",
              "  <div id=\"df-7611de77-dbb5-42c7-91d4-f28f3df5a11f\">\n",
              "    <div class=\"colab-df-container\">\n",
              "      <div>\n",
              "<style scoped>\n",
              "    .dataframe tbody tr th:only-of-type {\n",
              "        vertical-align: middle;\n",
              "    }\n",
              "\n",
              "    .dataframe tbody tr th {\n",
              "        vertical-align: top;\n",
              "    }\n",
              "\n",
              "    .dataframe thead th {\n",
              "        text-align: right;\n",
              "    }\n",
              "</style>\n",
              "<table border=\"1\" class=\"dataframe\">\n",
              "  <thead>\n",
              "    <tr style=\"text-align: right;\">\n",
              "      <th></th>\n",
              "      <th>samsung</th>\n",
              "      <th>cj</th>\n",
              "      <th>koair</th>\n",
              "      <th>sm</th>\n",
              "      <th>showbox</th>\n",
              "    </tr>\n",
              "    <tr>\n",
              "      <th>Date</th>\n",
              "      <th></th>\n",
              "      <th></th>\n",
              "      <th></th>\n",
              "      <th></th>\n",
              "      <th></th>\n",
              "    </tr>\n",
              "  </thead>\n",
              "  <tbody>\n",
              "    <tr>\n",
              "      <th>2016-09-01</th>\n",
              "      <td>31740</td>\n",
              "      <td>177278</td>\n",
              "      <td>21062</td>\n",
              "      <td>1920</td>\n",
              "      <td>6650</td>\n",
              "    </tr>\n",
              "    <tr>\n",
              "      <th>2016-09-02</th>\n",
              "      <td>31940</td>\n",
              "      <td>178221</td>\n",
              "      <td>21337</td>\n",
              "      <td>2000</td>\n",
              "      <td>6730</td>\n",
              "    </tr>\n",
              "    <tr>\n",
              "      <th>2016-09-05</th>\n",
              "      <td>32120</td>\n",
              "      <td>178692</td>\n",
              "      <td>20909</td>\n",
              "      <td>1940</td>\n",
              "      <td>6700</td>\n",
              "    </tr>\n",
              "    <tr>\n",
              "      <th>2016-09-06</th>\n",
              "      <td>32860</td>\n",
              "      <td>178692</td>\n",
              "      <td>20636</td>\n",
              "      <td>1895</td>\n",
              "      <td>6720</td>\n",
              "    </tr>\n",
              "    <tr>\n",
              "      <th>2016-09-07</th>\n",
              "      <td>32420</td>\n",
              "      <td>175863</td>\n",
              "      <td>20574</td>\n",
              "      <td>1840</td>\n",
              "      <td>6560</td>\n",
              "    </tr>\n",
              "  </tbody>\n",
              "</table>\n",
              "</div>\n",
              "      <button class=\"colab-df-convert\" onclick=\"convertToInteractive('df-7611de77-dbb5-42c7-91d4-f28f3df5a11f')\"\n",
              "              title=\"Convert this dataframe to an interactive table.\"\n",
              "              style=\"display:none;\">\n",
              "        \n",
              "  <svg xmlns=\"http://www.w3.org/2000/svg\" height=\"24px\"viewBox=\"0 0 24 24\"\n",
              "       width=\"24px\">\n",
              "    <path d=\"M0 0h24v24H0V0z\" fill=\"none\"/>\n",
              "    <path d=\"M18.56 5.44l.94 2.06.94-2.06 2.06-.94-2.06-.94-.94-2.06-.94 2.06-2.06.94zm-11 1L8.5 8.5l.94-2.06 2.06-.94-2.06-.94L8.5 2.5l-.94 2.06-2.06.94zm10 10l.94 2.06.94-2.06 2.06-.94-2.06-.94-.94-2.06-.94 2.06-2.06.94z\"/><path d=\"M17.41 7.96l-1.37-1.37c-.4-.4-.92-.59-1.43-.59-.52 0-1.04.2-1.43.59L10.3 9.45l-7.72 7.72c-.78.78-.78 2.05 0 2.83L4 21.41c.39.39.9.59 1.41.59.51 0 1.02-.2 1.41-.59l7.78-7.78 2.81-2.81c.8-.78.8-2.07 0-2.86zM5.41 20L4 18.59l7.72-7.72 1.47 1.35L5.41 20z\"/>\n",
              "  </svg>\n",
              "      </button>\n",
              "      \n",
              "  <style>\n",
              "    .colab-df-container {\n",
              "      display:flex;\n",
              "      flex-wrap:wrap;\n",
              "      gap: 12px;\n",
              "    }\n",
              "\n",
              "    .colab-df-convert {\n",
              "      background-color: #E8F0FE;\n",
              "      border: none;\n",
              "      border-radius: 50%;\n",
              "      cursor: pointer;\n",
              "      display: none;\n",
              "      fill: #1967D2;\n",
              "      height: 32px;\n",
              "      padding: 0 0 0 0;\n",
              "      width: 32px;\n",
              "    }\n",
              "\n",
              "    .colab-df-convert:hover {\n",
              "      background-color: #E2EBFA;\n",
              "      box-shadow: 0px 1px 2px rgba(60, 64, 67, 0.3), 0px 1px 3px 1px rgba(60, 64, 67, 0.15);\n",
              "      fill: #174EA6;\n",
              "    }\n",
              "\n",
              "    [theme=dark] .colab-df-convert {\n",
              "      background-color: #3B4455;\n",
              "      fill: #D2E3FC;\n",
              "    }\n",
              "\n",
              "    [theme=dark] .colab-df-convert:hover {\n",
              "      background-color: #434B5C;\n",
              "      box-shadow: 0px 1px 3px 1px rgba(0, 0, 0, 0.15);\n",
              "      filter: drop-shadow(0px 1px 2px rgba(0, 0, 0, 0.3));\n",
              "      fill: #FFFFFF;\n",
              "    }\n",
              "  </style>\n",
              "\n",
              "      <script>\n",
              "        const buttonEl =\n",
              "          document.querySelector('#df-7611de77-dbb5-42c7-91d4-f28f3df5a11f button.colab-df-convert');\n",
              "        buttonEl.style.display =\n",
              "          google.colab.kernel.accessAllowed ? 'block' : 'none';\n",
              "\n",
              "        async function convertToInteractive(key) {\n",
              "          const element = document.querySelector('#df-7611de77-dbb5-42c7-91d4-f28f3df5a11f');\n",
              "          const dataTable =\n",
              "            await google.colab.kernel.invokeFunction('convertToInteractive',\n",
              "                                                     [key], {});\n",
              "          if (!dataTable) return;\n",
              "\n",
              "          const docLinkHtml = 'Like what you see? Visit the ' +\n",
              "            '<a target=\"_blank\" href=https://colab.research.google.com/notebooks/data_table.ipynb>data table notebook</a>'\n",
              "            + ' to learn more about interactive tables.';\n",
              "          element.innerHTML = '';\n",
              "          dataTable['output_type'] = 'display_data';\n",
              "          await google.colab.output.renderOutput(dataTable, element);\n",
              "          const docLink = document.createElement('div');\n",
              "          docLink.innerHTML = docLinkHtml;\n",
              "          element.appendChild(docLink);\n",
              "        }\n",
              "      </script>\n",
              "    </div>\n",
              "  </div>\n",
              "  "
            ]
          },
          "metadata": {},
          "execution_count": 68
        }
      ],
      "source": [
        "# fill in this cell for Task 0-2\n",
        "df.to_csv('stock_data.csv')\n",
        "\n",
        "df = pd.read_csv('stock_data.csv', index_col='Date',parse_dates = True)\n",
        "\n",
        "df.head()"
      ]
    },
    {
      "cell_type": "markdown",
      "id": "05f3e132",
      "metadata": {
        "id": "05f3e132"
      },
      "source": [
        "### Task 1 : __return__ of a stock\n",
        "\n",
        "#### Task 1-1. Plot monthly average price.\n",
        "- Choose one stock  $s \\in S$ \n",
        "- Compute monthly mean price of $s$\n",
        "    * use resample\n",
        "- Plot monthly mean price as below\n",
        "    * plt.title('title string here')"
      ]
    },
    {
      "cell_type": "markdown",
      "id": "3a95362a",
      "metadata": {
        "id": "3a95362a"
      },
      "source": [
        "![image.png](attachment:32f0fb96-7e05-4249-b0ba-fa78ba0ee6f6.png)"
      ]
    },
    {
      "cell_type": "code",
      "execution_count": 69,
      "id": "014410f8",
      "metadata": {
        "colab": {
          "base_uri": "https://localhost:8080/",
          "height": 301
        },
        "id": "014410f8",
        "outputId": "92d244fd-13a6-4837-b9a2-781956726457"
      },
      "outputs": [
        {
          "output_type": "display_data",
          "data": {
            "text/plain": [
              "<Figure size 432x288 with 1 Axes>"
            ],
            "image/png": "[encoded data removed]"
          },
          "metadata": {}
        }
      ],
      "source": [
        "# fill in this cell for Task 1-1\n",
        "# choose samsung\n",
        "samsungM = samsung.resample('M').mean()\n",
        "samsungM.plot(style=['-', ':', '--'])\n",
        "plt.title('SAMSUNG : Monthly Mean Price');\n"
      ]
    },
    {
      "cell_type": "markdown",
      "id": "a71636d8",
      "metadata": {
        "id": "a71636d8"
      },
      "source": [
        "#### Task 1-2. Computing __return__ of stocks.\n",
        "- Compute daily return $R^{(s)}_t$ for $\\forall s \\in S$ \n",
        "    * __return__ $R^{(s)}_t$ is defined as $R^{(s)}_t = \\frac{P^{(s)}_t - P^{(s)}_{t-1}}{P^{(s)}_{t-1}} \\times 100(\\%) $\n",
        "    * __price__ $P_t^{(s)}$ : closing price of $s \\in S$ at time $t$\n",
        "    * hint : consider using df.shift(1) for $P_{t-1}$\n",
        "- Compute minimum and maximum of return for each stock\n",
        "    * hint : use min() and max()\n",
        "- Store minimum and maximum of return as a DataFrame object and display it as below.\n",
        "|      |        min |      max  |\n",
        "|------|------------|-----------|\n",
        "| AAPL | -12.865160 | 11.972285 |\n",
        "| NVDA | -18.754941 | 29.811098 |\n",
        "| TSLA | -21.062823 | 19.898547 |\n",
        "| NEE  | -13.414028 | 13.697423 |\n",
        "| ALB  | -15.560689 | 13.738128 |  "
      ]
    },
    {
      "cell_type": "code",
      "execution_count": 71,
      "id": "496eaf42",
      "metadata": {
        "colab": {
          "base_uri": "https://localhost:8080/"
        },
        "id": "496eaf42",
        "outputId": "9822be8f-d22e-44da-b7ed-94150dcfa444"
      },
      "outputs": [
        {
          "output_type": "stream",
          "name": "stdout",
          "text": [
            "               min        max\n",
            "samsung  -8.035714  10.470588\n",
            "cj       -9.344262  14.783821\n",
            "koair   -24.855147  15.657448\n",
            "sm      -24.125000  30.000000\n",
            "showbox -19.743590  29.971182\n"
          ]
        }
      ],
      "source": [
        "# fill in this cell for Task 1-2\n",
        "dfsamsung = pd.DataFrame({'samsung':samsung})\n",
        "samsung_yesterday = samsung.shift(1)\n",
        "dfsamsung = pd.DataFrame({'samsung':samsung, 'samsung_yesterday':samsung_yesterday})\n",
        "dfsamsung['return'] = (dfsamsung['samsung']-dfsamsung['samsung_yesterday'])/dfsamsung['samsung_yesterday']*100\n",
        "\n",
        "dfcj = pd.DataFrame({'cj':cj})\n",
        "cj_yesterday = cj.shift(1)\n",
        "dfcj = pd.DataFrame({'cj':cj, 'cj_yesterday':cj_yesterday})\n",
        "dfcj['return'] = (dfcj['cj']-dfcj['cj_yesterday'])/dfcj['cj_yesterday']*100\n",
        "\n",
        "dfkoair = pd.DataFrame({'koair':koair})\n",
        "koair_yesterday = koair.shift(1)\n",
        "dfkoair = pd.DataFrame({'koair':koair, 'koair_yesterday':koair_yesterday})\n",
        "dfkoair['return'] = (dfkoair['koair']-dfkoair['koair_yesterday'])/dfkoair['koair_yesterday']*100\n",
        "\n",
        "dfsm = pd.DataFrame({'sm':sm})\n",
        "sm_yesterday = sm.shift(1)\n",
        "dfsm = pd.DataFrame({'sm':sm, 'sm_yesterday':sm_yesterday})\n",
        "dfsm['return'] = (dfsm['sm']-dfsm['sm_yesterday'])/dfsm['sm_yesterday']*100\n",
        "\n",
        "dfshowbox = pd.DataFrame({'showbox':showbox})\n",
        "showbox_yesterday = showbox.shift(1)\n",
        "dfshowbox = pd.DataFrame({'showbox':showbox, 'showbox_yesterday':showbox_yesterday})\n",
        "dfshowbox['return'] = (dfshowbox['showbox']-dfshowbox['showbox_yesterday'])/dfshowbox['showbox_yesterday']*100\n",
        "\n",
        "min_dict = {'samsung':dfsamsung['return'].min(), 'cj':dfcj['return'].min(), 'koair':dfkoair['return'].min(), 'sm':dfsm['return'].min(), 'showbox':dfshowbox['return'].min() }\n",
        "max_dict = {'samsung':dfsamsung['return'].max(), 'cj':dfcj['return'].max(), 'koair':dfkoair['return'].max(), 'sm':dfsm['return'].max(), 'showbox':dfshowbox['return'].max() }\n",
        "\n",
        "min_series = pd.Series(min_dict)\n",
        "max_series = pd.Series(max_dict)\n",
        "minmaxdf = pd.DataFrame({'min': min_series,'max': max_series})\n",
        "print(minmaxdf)"
      ]
    },
    {
      "cell_type": "markdown",
      "id": "b7de1d26",
      "metadata": {
        "id": "b7de1d26"
      },
      "source": [
        "### Task 2 : mean __return__ for each day of the week\n",
        "#### Task 2-1. Computing mean __return__ for each day of the week.\n",
        "- Compute mean return for each day of the week\n",
        "    * hint : use groupby\n",
        "- Plot mean return for each day of the week as below."
      ]
    },
    {
      "cell_type": "markdown",
      "id": "70430222",
      "metadata": {
        "id": "70430222"
      },
      "source": [
        "![image.png](attachment:04636697-d01a-433f-95a7-3146a46fd294.png)"
      ]
    },
    {
      "cell_type": "code",
      "execution_count": 82,
      "id": "2a9bd9d3",
      "metadata": {
        "colab": {
          "base_uri": "https://localhost:8080/",
          "height": 268
        },
        "id": "2a9bd9d3",
        "outputId": "63ac5074-ff7a-42a9-9d6e-e7f822177dfe"
      },
      "outputs": [
        {
          "output_type": "display_data",
          "data": {
            "text/plain": [
              "<Figure size 432x288 with 1 Axes>"
            ],
            "image/png": "[encoded data removed]"
          },
          "metadata": {}
        }
      ],
      "source": [
        "# fill in this cell for Task 2-1\n",
        "\n",
        "return_df = pd.DataFrame({'samsung':dfsamsung['return'], 'cj':dfcj['return'], 'koair':dfkoair['return'],'sm':dfsm['return'],'showbox':dfshowbox['return']})\n",
        "by_eachday = return_df.groupby(return_df.index.dayofweek).mean()\n",
        "by_eachday.index = ['Mon', 'Tue', 'Wed', 'Thu', 'Fri']\n",
        "\n",
        "by_eachday.plot();\n",
        "plt.legend(loc='upper right')\n",
        "plt.show()"
      ]
    },
    {
      "cell_type": "markdown",
      "id": "b8b4dd76",
      "metadata": {
        "id": "b8b4dd76"
      },
      "source": [
        "#### Task 2-2. When to buy stocks?\n",
        "- Based on the previous task result, which day of the week is best for buying stocks?  \n",
        "    * When is worst?\n",
        "- Briefly state your opinion in the next blank cell with some justification."
      ]
    },
    {
      "cell_type": "markdown",
      "id": "b8f4377b",
      "metadata": {
        "id": "b8f4377b"
      },
      "source": [
        "##### Write your opinion and justification here (Task 2-2).\n",
        "\n",
        "Tuesday's return value is the highest, so we have to buy it on Monday.\n",
        "Thursday's return value is the lowest, so we shouldn't buy it on Wednesday.\n",
        "\n",
        "<br>\n",
        "<br>\n",
        "<br>\n",
        "<br>\n",
        "<br>\n",
        "<br>\n",
        "<br>  "
      ]
    },
    {
      "cell_type": "markdown",
      "id": "e3bf99da",
      "metadata": {
        "id": "e3bf99da"
      },
      "source": [
        "### Task 3 : Analysis of Return\n",
        "Some basic statistical terms on data $X = \\{X_t;t=1..n\\}$ and $Y = \\{Y_t;t=1..n\\}$\n",
        "- $\\bar{X}$ = $mean(X)$ = $\\frac1{n}\\sum_{t=1}^{n} X_t$ : \n",
        "- $var(X) = \\frac1{n}\\sum_{t=1}^{n} {(X_t-\\bar{X})^2}$ : variance\n",
        "- $std(X) = \\sqrt{var(X)}$ : standard deviation\n",
        "- $cov(X,Y) = \\frac1{n}\\sum_{t=1}^{n} {(X_t-\\bar{X})(Y_t-\\bar{Y})}$ : covariance\n",
        "- $corr(X,Y) = \\frac{cov(X,Y)}{std(X)std(Y)}$ : Pearson correlation coef.\n",
        "    * $ -1 \\leq corr(X,Y) \\leq +1$\n"
      ]
    },
    {
      "cell_type": "markdown",
      "id": "8cf6647b",
      "metadata": {
        "id": "8cf6647b"
      },
      "source": [
        "#### Task 3-1. Correlation matrix\n",
        "- compute daily return of each stock in $S$\n",
        "    * already done in Task 1-2\n",
        "- compute correlation matrix between daily returns\n",
        "    * hint : corr() function of DataFrame\n",
        "- plot heatmap as below example\n",
        "    * make your plot have the same style as the example\n",
        "    * hint : use seaborn.heatmap() with cmap = 'RdYlBu_r'       "
      ]
    },
    {
      "cell_type": "markdown",
      "id": "a202609c",
      "metadata": {
        "id": "a202609c"
      },
      "source": [
        "![image.png](attachment:5bf3d670-13c2-4e4e-bd4a-e894791715af.png)"
      ]
    },
    {
      "cell_type": "code",
      "execution_count": 84,
      "id": "4ff54f2d",
      "metadata": {
        "colab": {
          "base_uri": "https://localhost:8080/",
          "height": 384
        },
        "id": "4ff54f2d",
        "outputId": "e717cd29-e4f6-4872-cf58-ccb1f5c77d8d"
      },
      "outputs": [
        {
          "output_type": "stream",
          "name": "stdout",
          "text": [
            "          samsung        cj     koair        sm   showbox\n",
            "samsung  1.000000  0.310464  0.322685  0.157715  0.208711\n",
            "cj       0.310464  1.000000  0.402296  0.222026  0.301217\n",
            "koair    0.322685  0.402296  1.000000  0.185245  0.308953\n",
            "sm       0.157715  0.222026  0.185245  1.000000  0.297881\n",
            "showbox  0.208711  0.301217  0.308953  0.297881  1.000000\n"
          ]
        },
        {
          "output_type": "display_data",
          "data": {
            "text/plain": [
              "<Figure size 432x288 with 2 Axes>"
            ],
            "image/png": "[encoded data removed]"
          },
          "metadata": {}
        }
      ],
      "source": [
        "# fill in this cell for Task 3-1\n",
        "corr=return_df.corr()\n",
        "print(corr)\n",
        "sns.heatmap(corr,cmap='RdYlBu_r',annot=True, vmin=-1, vmax=1);\n"
      ]
    },
    {
      "cell_type": "markdown",
      "id": "3c323911",
      "metadata": {
        "id": "3c323911"
      },
      "source": [
        "#### Task 3-2. Most/least correlated pairs\n",
        "- find the most correlated pair and print as below  \n",
        "Most  correlated pair : ('AAPL', 'NVDA'), Corr=0.58  \n",
        "- find the least correlated pair and print as below  \n",
        "Least correlated pair : ('TSLA', 'NEE'), Corr=0.21"
      ]
    },
    {
      "cell_type": "code",
      "execution_count": 85,
      "id": "f8e8f211",
      "metadata": {
        "colab": {
          "base_uri": "https://localhost:8080/"
        },
        "id": "f8e8f211",
        "outputId": "42237663-3268-487a-b6ad-a4090de48186"
      },
      "outputs": [
        {
          "output_type": "stream",
          "name": "stdout",
          "text": [
            "Most correlated pair : ('cj', 'koair') Corr= 0.4\n",
            "Least correlated pair : ('samsung', 'sm') Corr= 0.16\n"
          ]
        }
      ],
      "source": [
        "# fill in this cell for Task 3-2\n",
        "\n",
        "recorr=corr.replace(1,np.nan)\n",
        "\n",
        "max_corr_value=recorr.max().max()\n",
        "min_corr_value=recorr.min().min()\n",
        "\n",
        "find_max_pos=recorr.isin([max_corr_value])\n",
        "find_min_pos=recorr.isin([min_corr_value])\n",
        "\n",
        "\n",
        "find_max_pos = find_max_pos.any()\n",
        "max_pos = tuple(find_max_pos[find_max_pos == True].index)\n",
        "find_min_pos = find_min_pos.any()\n",
        "min_pos = tuple(find_min_pos[find_min_pos == True].index)\n",
        "\n",
        "print ('Most correlated pair :', max_pos, 'Corr=', round(max_corr_value,2))\n",
        "print ('Least correlated pair :', min_pos, 'Corr=', round(min_corr_value,2))"
      ]
    },
    {
      "cell_type": "markdown",
      "id": "061d1c2f",
      "metadata": {
        "id": "061d1c2f"
      },
      "source": [
        "### Task 4 : Characterizing stocks\n",
        "- Each stock can be characterized by:\n",
        "    * expected return level ($\\mu$) : mean of daily return\n",
        "    * risk ($\\sigma$) : standard deviation of daily return"
      ]
    },
    {
      "cell_type": "markdown",
      "id": "d3b74c7f",
      "metadata": {
        "id": "d3b74c7f"
      },
      "source": [
        "#### Task 4-1. \n",
        "- Compute mean return ($\\mu^{(s)}$) for $\\forall s \\in S$\n",
        "    * use mean() function of DataFrame\n",
        "- Compute standard deviation of return ($\\sigma^{(s)}$) for $\\forall s \\in S$\n",
        "    * use std() function of DataFrame\n",
        "- Plot $\\{\\left(\\mu^{(s)}, \\sigma^{(s)}\\right); s\\in S\\}$\n",
        "    * hint : use plt.scatter(), plt.annotate(), plt.xlabel(), plt.ylabel()"
      ]
    },
    {
      "cell_type": "code",
      "execution_count": 86,
      "id": "bcdecdca",
      "metadata": {
        "colab": {
          "base_uri": "https://localhost:8080/",
          "height": 285
        },
        "id": "bcdecdca",
        "outputId": "89c6d252-89d1-44d8-927d-f1004c08dc22"
      },
      "outputs": [
        {
          "output_type": "display_data",
          "data": {
            "text/plain": [
              "<Figure size 432x288 with 1 Axes>"
            ],
            "image/png": "[encoded data removed]"
          },
          "metadata": {}
        }
      ],
      "source": [
        "# fill in this cell for Task 4-1\n",
        "mean_df = return_df.mean()\n",
        "std_df = return_df.std()\n",
        "plt.scatter(std_df,mean_df)\n",
        "for i in range (5):\n",
        "    plt.annotate(mean_df.keys()[i],xy=(std_df[i], mean_df[i]))\n",
        "\n",
        "plt.xlabel('Std.return')\n",
        "plt.ylabel('Mean return')\n",
        "\n",
        "plt.show()\n"
      ]
    },
    {
      "cell_type": "markdown",
      "id": "dec28324",
      "metadata": {
        "id": "dec28324"
      },
      "source": [
        "#### Task 4-2. If you are a risk taker, which stock $s \\in S$ would you invest on?\n",
        "- Choose a stock $s \\in S$ for risk taker\n",
        "    * Briefly justify your answer."
      ]
    },
    {
      "cell_type": "markdown",
      "id": "23b77140",
      "metadata": {
        "id": "23b77140"
      },
      "source": [
        "##### Write your opinion and justification here (Task 4-2).\n",
        "<br>If I take a risk, I'll buy the stock with the highest maen_return value (in my case, It is sm).\n",
        "The high std_return means that the risk is high, but investors who take risks will invest in stocks with the highest return(mean_return) even if the risk is high.\n",
        "<br>\n",
        "<br>\n",
        "<br>\n",
        "<br>\n",
        "<br>\n",
        "<br>  "
      ]
    },
    {
      "cell_type": "markdown",
      "id": "9fa688a2",
      "metadata": {
        "id": "9fa688a2"
      },
      "source": [
        "#### Task 4-3. Which stock $s \\in S$ would you never invest on, regardless of your risk appetite?  \n",
        "- Choose a stock $s \\in S$ that you would not invest on..\n",
        "    * Explain why.\n",
        "    * hint : look for a stock dominated by others"
      ]
    },
    {
      "cell_type": "markdown",
      "id": "58b69074",
      "metadata": {
        "id": "58b69074"
      },
      "source": [
        "##### Write your opinion and explain your reason here (Task 4-3).\n",
        "<br>I will never invest in stocks with negative mean_return values (in my case, cj. Unfortunately, I already have cj shares.)\n",
        "Regardless of the risk, the meaning_return is negative means it usually losing money. Even in general cases where there are no unfavorable or favorable factors for stocks, I lose money.\n",
        "<br>\n",
        "<br>\n",
        "<br>\n",
        "<br>\n",
        "<br>\n",
        "<br>  "
      ]
    }
  ],
  "metadata": {
    "kernelspec": {
      "display_name": "Python 3 (ipykernel)",
      "language": "python",
      "name": "python3"
    },
    "language_info": {
      "codemirror_mode": {
        "name": "ipython",
        "version": 3
      },
      "file_extension": ".py",
      "mimetype": "text/x-python",
      "name": "python",
      "nbconvert_exporter": "python",
      "pygments_lexer": "ipython3",
      "version": "3.8.5"
    },
    "colab": {
      "provenance": []
    }
  },
  "nbformat": 4,
  "nbformat_minor": 5
}